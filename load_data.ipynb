{
 "cells": [
  {
   "cell_type": "code",
   "execution_count": 1,
   "metadata": {},
   "outputs": [],
   "source": [
    "code_dir = \"../UXO_protected/+BTInvertPY\"\n",
    "import sys\n",
    "sys.path.append(code_dir)"
   ]
  },
  {
   "cell_type": "code",
   "execution_count": 2,
   "metadata": {},
   "outputs": [],
   "source": [
    "from BTSensor import SensorInfo, Model, preCalcLoopCorners, FModParam, forwardWithQ, sensorCoords2RxCoords, hprimary, formQmatrix\n",
    "from BTInvert import getSettings, validate_std, signal2Noise, invert_single, invertML\n",
    "import numpy as np\n",
    "import os\n",
    "import h5py\n",
    "import matplotlib.pyplot as plt"
   ]
  },
  {
   "cell_type": "code",
   "execution_count": 3,
   "metadata": {},
   "outputs": [],
   "source": [
    "data_directory = os.path.sep.join([\"..\", \"data-blacktusk\"])"
   ]
  },
  {
   "cell_type": "code",
   "execution_count": 4,
   "metadata": {},
   "outputs": [],
   "source": [
    "# H5 functions\n",
    "def proc_attr(inp):\n",
    "    \"\"\"HDF5 - Process attributes for the input group and return them in a dictionary.\"\"\"\n",
    "    dic = {}\n",
    "    for att in inp.attrs.keys():\n",
    "        if inp.attrs[att].dtype.char == 'S':\n",
    "            dic[att] = [x.strip() for x in inp.attrs[att].tostring().decode('ascii').split(',')]\n",
    "        else:\n",
    "            dic[att] = inp.attrs[att][0] if isinstance(inp.attrs[att],np.ndarray) and inp.attrs[att].size==1 else inp.attrs[att]\n",
    "    return dic\n",
    "    pass\n",
    "\n",
    "def proc_group(inp):\n",
    "    \"\"\"HDF5 - A recursive function for reading datasets and attributes into a dictionary.\"\"\"\n",
    "    dic = {}\n",
    "    dic.update(proc_attr(inp))\n",
    "    for key in inp.keys():\n",
    "        if isinstance(inp[key], h5py.Group):\n",
    "            dic.update({key:proc_group(inp[key])})\n",
    "        else:\n",
    "            dic[key] = inp[key][()]\n",
    "        pass\n",
    "    return dic"
   ]
  },
  {
   "cell_type": "code",
   "execution_count": 5,
   "metadata": {},
   "outputs": [
    {
     "ename": "OSError",
     "evalue": "Unable to open file (unable to open file: name = '../data-blacktusk/Testplot5F.h5', errno = 2, error message = 'No such file or directory', flags = 0, o_flags = 0)",
     "output_type": "error",
     "traceback": [
      "\u001b[0;31m---------------------------------------------------------------------------\u001b[0m",
      "\u001b[0;31mOSError\u001b[0m                                   Traceback (most recent call last)",
      "\u001b[0;32m<ipython-input-5-455ea26443a0>\u001b[0m in \u001b[0;36m<module>\u001b[0;34m\u001b[0m\n\u001b[1;32m      2\u001b[0m \u001b[0;31m# dfile = os.path.join('.','matlab','d190723_BlossomPointPOS_inv.h5')\u001b[0m\u001b[0;34m\u001b[0m\u001b[0;34m\u001b[0m\u001b[0;34m\u001b[0m\u001b[0m\n\u001b[1;32m      3\u001b[0m \u001b[0mdfile\u001b[0m \u001b[0;34m=\u001b[0m \u001b[0mos\u001b[0m\u001b[0;34m.\u001b[0m\u001b[0mpath\u001b[0m\u001b[0;34m.\u001b[0m\u001b[0mjoin\u001b[0m\u001b[0;34m(\u001b[0m\u001b[0mdata_directory\u001b[0m\u001b[0;34m,\u001b[0m \u001b[0;34m'Testplot5F.h5'\u001b[0m\u001b[0;34m)\u001b[0m\u001b[0;34m\u001b[0m\u001b[0;34m\u001b[0m\u001b[0m\n\u001b[0;32m----> 4\u001b[0;31m \u001b[0mf\u001b[0m \u001b[0;34m=\u001b[0m \u001b[0mh5py\u001b[0m\u001b[0;34m.\u001b[0m\u001b[0mFile\u001b[0m\u001b[0;34m(\u001b[0m\u001b[0mdfile\u001b[0m\u001b[0;34m,\u001b[0m \u001b[0;34m'r'\u001b[0m\u001b[0;34m)\u001b[0m\u001b[0;34m\u001b[0m\u001b[0;34m\u001b[0m\u001b[0m\n\u001b[0m\u001b[1;32m      5\u001b[0m \u001b[0mdic\u001b[0m \u001b[0;34m=\u001b[0m \u001b[0mproc_group\u001b[0m\u001b[0;34m(\u001b[0m\u001b[0mf\u001b[0m\u001b[0;34m)\u001b[0m\u001b[0;34m\u001b[0m\u001b[0;34m\u001b[0m\u001b[0m\n\u001b[1;32m      6\u001b[0m \u001b[0mf\u001b[0m\u001b[0;34m.\u001b[0m\u001b[0mclose\u001b[0m\u001b[0;34m(\u001b[0m\u001b[0;34m)\u001b[0m\u001b[0;34m\u001b[0m\u001b[0;34m\u001b[0m\u001b[0m\n",
      "\u001b[0;32m//miniconda3/lib/python3.7/site-packages/h5py/_hl/files.py\u001b[0m in \u001b[0;36m__init__\u001b[0;34m(self, name, mode, driver, libver, userblock_size, swmr, rdcc_nslots, rdcc_nbytes, rdcc_w0, track_order, **kwds)\u001b[0m\n\u001b[1;32m    406\u001b[0m                 fid = make_fid(name, mode, userblock_size,\n\u001b[1;32m    407\u001b[0m                                \u001b[0mfapl\u001b[0m\u001b[0;34m,\u001b[0m \u001b[0mfcpl\u001b[0m\u001b[0;34m=\u001b[0m\u001b[0mmake_fcpl\u001b[0m\u001b[0;34m(\u001b[0m\u001b[0mtrack_order\u001b[0m\u001b[0;34m=\u001b[0m\u001b[0mtrack_order\u001b[0m\u001b[0;34m)\u001b[0m\u001b[0;34m,\u001b[0m\u001b[0;34m\u001b[0m\u001b[0;34m\u001b[0m\u001b[0m\n\u001b[0;32m--> 408\u001b[0;31m                                swmr=swmr)\n\u001b[0m\u001b[1;32m    409\u001b[0m \u001b[0;34m\u001b[0m\u001b[0m\n\u001b[1;32m    410\u001b[0m             \u001b[0;32mif\u001b[0m \u001b[0misinstance\u001b[0m\u001b[0;34m(\u001b[0m\u001b[0mlibver\u001b[0m\u001b[0;34m,\u001b[0m \u001b[0mtuple\u001b[0m\u001b[0;34m)\u001b[0m\u001b[0;34m:\u001b[0m\u001b[0;34m\u001b[0m\u001b[0;34m\u001b[0m\u001b[0m\n",
      "\u001b[0;32m//miniconda3/lib/python3.7/site-packages/h5py/_hl/files.py\u001b[0m in \u001b[0;36mmake_fid\u001b[0;34m(name, mode, userblock_size, fapl, fcpl, swmr)\u001b[0m\n\u001b[1;32m    171\u001b[0m         \u001b[0;32mif\u001b[0m \u001b[0mswmr\u001b[0m \u001b[0;32mand\u001b[0m \u001b[0mswmr_support\u001b[0m\u001b[0;34m:\u001b[0m\u001b[0;34m\u001b[0m\u001b[0;34m\u001b[0m\u001b[0m\n\u001b[1;32m    172\u001b[0m             \u001b[0mflags\u001b[0m \u001b[0;34m|=\u001b[0m \u001b[0mh5f\u001b[0m\u001b[0;34m.\u001b[0m\u001b[0mACC_SWMR_READ\u001b[0m\u001b[0;34m\u001b[0m\u001b[0;34m\u001b[0m\u001b[0m\n\u001b[0;32m--> 173\u001b[0;31m         \u001b[0mfid\u001b[0m \u001b[0;34m=\u001b[0m \u001b[0mh5f\u001b[0m\u001b[0;34m.\u001b[0m\u001b[0mopen\u001b[0m\u001b[0;34m(\u001b[0m\u001b[0mname\u001b[0m\u001b[0;34m,\u001b[0m \u001b[0mflags\u001b[0m\u001b[0;34m,\u001b[0m \u001b[0mfapl\u001b[0m\u001b[0;34m=\u001b[0m\u001b[0mfapl\u001b[0m\u001b[0;34m)\u001b[0m\u001b[0;34m\u001b[0m\u001b[0;34m\u001b[0m\u001b[0m\n\u001b[0m\u001b[1;32m    174\u001b[0m     \u001b[0;32melif\u001b[0m \u001b[0mmode\u001b[0m \u001b[0;34m==\u001b[0m \u001b[0;34m'r+'\u001b[0m\u001b[0;34m:\u001b[0m\u001b[0;34m\u001b[0m\u001b[0;34m\u001b[0m\u001b[0m\n\u001b[1;32m    175\u001b[0m         \u001b[0mfid\u001b[0m \u001b[0;34m=\u001b[0m \u001b[0mh5f\u001b[0m\u001b[0;34m.\u001b[0m\u001b[0mopen\u001b[0m\u001b[0;34m(\u001b[0m\u001b[0mname\u001b[0m\u001b[0;34m,\u001b[0m \u001b[0mh5f\u001b[0m\u001b[0;34m.\u001b[0m\u001b[0mACC_RDWR\u001b[0m\u001b[0;34m,\u001b[0m \u001b[0mfapl\u001b[0m\u001b[0;34m=\u001b[0m\u001b[0mfapl\u001b[0m\u001b[0;34m)\u001b[0m\u001b[0;34m\u001b[0m\u001b[0;34m\u001b[0m\u001b[0m\n",
      "\u001b[0;32mh5py/_objects.pyx\u001b[0m in \u001b[0;36mh5py._objects.with_phil.wrapper\u001b[0;34m()\u001b[0m\n",
      "\u001b[0;32mh5py/_objects.pyx\u001b[0m in \u001b[0;36mh5py._objects.with_phil.wrapper\u001b[0;34m()\u001b[0m\n",
      "\u001b[0;32mh5py/h5f.pyx\u001b[0m in \u001b[0;36mh5py.h5f.open\u001b[0;34m()\u001b[0m\n",
      "\u001b[0;31mOSError\u001b[0m: Unable to open file (unable to open file: name = '../data-blacktusk/Testplot5F.h5', errno = 2, error message = 'No such file or directory', flags = 0, o_flags = 0)"
     ]
    }
   ],
   "source": [
    "# Load the data file and read all data into a dictionary\n",
    "# dfile = os.path.join('.','matlab','d190723_BlossomPointPOS_inv.h5')\n",
    "dfile = os.path.join(data_directory, 'Testplot5F.h5')\n",
    "f = h5py.File(dfile, 'r')\n",
    "dic = proc_group(f)\n",
    "f.close()\n",
    " \n",
    "icell = '1'\n",
    "iinv = '1' # it is common for the 1st inversion result to be 1-obj, 2nd: 2-obj and so on"
   ]
  },
  {
   "cell_type": "code",
   "execution_count": null,
   "metadata": {},
   "outputs": [],
   "source": [
    "dic.keys()"
   ]
  },
  {
   "cell_type": "code",
   "execution_count": null,
   "metadata": {},
   "outputs": [],
   "source": [
    "# Generate the sensorinfo structure\n",
    "sensor_name = dic['SensorName'][0]\n",
    "sensor_config = dic['SensorConfig'][0]\n",
    "afile = os.path.join('..',\"+BTInvertPY\",'config','sensor_definitions','{}___{}.yaml'.format(sensor_name,sensor_config))\n",
    "sensorinfo = SensorInfo.fromYAML(afile)[0]\n",
    "\n",
    "print(sensor_name)"
   ]
  },
  {
   "cell_type": "markdown",
   "metadata": {},
   "source": [
    "XYZ Data.  This is not used in the script but you will want to use it for any target picking you do.\n",
    "The same channels are in the cell_data below."
   ]
  },
  {
   "cell_type": "code",
   "execution_count": null,
   "metadata": {},
   "outputs": [],
   "source": [
    "xyz_dict = dic[\"XYZ\"]\n",
    "xyz_ch = xyz_dict['Info']['ChannelNames']\n",
    "xyz_datai = xyz_dict['Info']['Data']['ChannelIndex'].flatten().astype(int)-1 # These are indices to the decay data\n",
    "xyz_yawi = int(xyz_dict['Info']['Yaw']['ChannelIndex'])-1 # index to the yaw channel\n",
    "xyz_mni = int(xyz_dict[\"Info\"][\"MeasNum\"][\"ChannelIndex\"])-1\n",
    "\n",
    "times = dic['SensorTimes'].flatten()"
   ]
  },
  {
   "cell_type": "markdown",
   "metadata": {},
   "source": [
    "All the required channels in uxolab are registered in dic['XYZ']['Info'] similar to above.\n",
    "Channel names can change from dataset to dataset so this registration is a reliable way to find a particular channel.\n"
   ]
  },
  {
   "cell_type": "code",
   "execution_count": null,
   "metadata": {},
   "outputs": [],
   "source": [
    "xyz_data = dic['XYZ']['Data']"
   ]
  },
  {
   "cell_type": "code",
   "execution_count": null,
   "metadata": {},
   "outputs": [],
   "source": [
    "len(xyz_ch)"
   ]
  },
  {
   "cell_type": "code",
   "execution_count": null,
   "metadata": {},
   "outputs": [],
   "source": [
    "xyz_data[xyz_mni, :]"
   ]
  },
  {
   "cell_type": "code",
   "execution_count": null,
   "metadata": {},
   "outputs": [],
   "source": [
    "\"\"\"\n",
    "CELL Data\n",
    "\"\"\"\n",
    "cell_target = dic['CELL'][icell]['Target'].flatten()\n",
    "cell_data = dic['CELL'][icell]['Data']\n",
    "cell_std = dic['CELL'][icell]['CellStd']\n",
    "cell_ch = dic['CELLInfo']['ChannelNames']\n",
    "\n",
    "\n"
   ]
  },
  {
   "cell_type": "code",
   "execution_count": null,
   "metadata": {},
   "outputs": [],
   "source": [
    "\"\"\" explanation of the line below\n",
    "UXOLab datasets can store 1 or more inversion results, when there is two or more results\n",
    "the field is accessed with the additional key iinv, when only one result is present the key is not needed.\n",
    "\"\"\"\n",
    "inv_res = dic['CELL'][icell]['InvResults'][iinv] if '1' in dic['CELL'][icell]['InvResults'].keys() else dic['CELL'][icell]['InvResults']\n",
    "\n",
    "inv_times = inv_res['Invert']['Times'].flatten()\n",
    "cell_height = inv_res['Invert']['Height']\n",
    "cell_final_mod = inv_res['ModelFinal']\n",
    "cell_min_s2n = inv_res['Invert']['min_S2N']\n",
    "inv_ch = inv_res['Invert']['Channels']\n",
    "\n",
    "\n",
    "btinvert_settings = inv_res['Invert']['BTInvert']\n",
    "# these lines are formating the datatypes, so that the settings dict is as expected by the inversion API\n",
    "btinvert_settings = {k:(v[0] if isinstance(v,list) and isinstance(v[0],str) else v) for (k,v) in btinvert_settings.items()}\n",
    "btinvert_settings = {k:(v[0] if isinstance(v,np.ndarray) and v.size == 1 else v) for (k,v) in btinvert_settings.items()}\n",
    "btinvert_settings = {k:(v.flatten().tolist() if isinstance(v,np.ndarray) else v) for (k,v) in btinvert_settings.items()}\n",
    "btinvert_settings = {k:(None if v!=v else v) for (k,v) in btinvert_settings.items()}\n",
    "\n",
    "# select only those data that were inverted. Data is limited in a cell using a polygon mask in uxolab.\n",
    "mask_ind = inv_res['MaskIndices'].astype(int).flatten() - 1 # these are 1-based indices from matlab\n",
    "cell_data = cell_data[:,mask_ind].T"
   ]
  },
  {
   "cell_type": "code",
   "execution_count": null,
   "metadata": {},
   "outputs": [],
   "source": [
    "\"\"\"\n",
    "Find the indices of various required channels.\n",
    "\"\"\"\n",
    "timesi = np.isin(times,inv_times)\n",
    "datai = np.isin(cell_ch,inv_ch).nonzero()[0]\n",
    "mni = int(dic['CELLInfo']['MeasNum']['ChannelIndex'])-1\n",
    "pitchi = int(dic['CELLInfo']['Pitch']['ChannelIndex'])-1\n",
    "rolli = int(dic['CELLInfo']['Roll']['ChannelIndex'])-1\n",
    "yawi = int(dic['CELLInfo']['Yaw']['ChannelIndex'])-1\n",
    "easti = int(dic['CELLInfo']['Easting']['ChannelIndex'])-1\n",
    "northi = int(dic['CELLInfo']['Northing']['ChannelIndex'])-1\n",
    "elevi = int(dic['CELLInfo']['Elevation']['ChannelIndex'])-1\n",
    "\n",
    "# I adjust the data coordinates origin to the cell target.  Also the median elevation is subtracted and then the sensor height is added to form a z-channel\n",
    "pos = cell_data[:, [easti,northi,elevi]] - np.append(cell_target,np.median(cell_data[:,elevi])-cell_height)\n",
    "pitch = np.deg2rad(cell_data[:, pitchi])\n",
    "roll = np.deg2rad(cell_data[:, rolli])\n",
    "yaw = np.deg2rad(cell_data[:, yawi])\n",
    "mn = cell_data[:, mni].astype(int)-1\n",
    "V = cell_data[:,datai]\n",
    "\n",
    "# This function is for checking the supplied data errors estimate and formating it\n",
    "stdv = validate_std(cell_std[timesi,:].T,mn,V.shape[1])\n",
    "\n",
    "# Get default inversion settings and update them with those used in UXOLab\n",
    "settings = getSettings(sensorinfo.name)\n",
    "settings.update(btinvert_settings)\n",
    "settings.update({'min_s2n':cell_min_s2n})\n",
    "\n",
    "# Compute S2N and combine percent error with data errors.\n",
    "s2n_vec,s2n_mask = signal2Noise(sensorinfo.name,inv_times,stdv,V,settings)\n",
    "d_f = 1./(stdv + abs(V)*settings[\"percent_error\"])\n",
    "d_f *= s2n_mask"
   ]
  },
  {
   "cell_type": "code",
   "execution_count": null,
   "metadata": {},
   "outputs": [],
   "source": [
    "mni"
   ]
  },
  {
   "cell_type": "code",
   "execution_count": null,
   "metadata": {},
   "outputs": [],
   "source": [
    "# Call the inversion API\n",
    "result = invertML(  data = V,\n",
    "                    mnum = mn,\n",
    "                    pos = pos,\n",
    "                    pitch = pitch,\n",
    "                    roll = roll,\n",
    "                    yaw = yaw,\n",
    "                    times = inv_times,\n",
    "                    s2n_vec = s2n_vec,\n",
    "                    s2n_mask = s2n_mask,\n",
    "                    stdv = stdv,\n",
    "                    d_f = d_f,\n",
    "                    sensorinfo = sensorinfo,\n",
    "                    settings = settings\n",
    ")"
   ]
  },
  {
   "cell_type": "code",
   "execution_count": null,
   "metadata": {},
   "outputs": [],
   "source": [
    "# Take the UXOLab inversion result from the H5 file and create a Model object for easy printing\n",
    "aux = np.reshape(cell_final_mod[6:],(3,int((cell_final_mod.size-6)/3))).T\n",
    "aux_xyz = cell_final_mod[0:3].flatten() - np.append(cell_target,0)\n",
    "uxolab_final_model = Model(xyz = aux_xyz, gba = cell_final_mod[3:6].flatten(),l1 = aux[:,2],l2 = aux[:,1],l3 = aux[:,0],times = inv_times)\n",
    "\n",
    "# This is our final result from the inversion API above\n",
    "btinvert_final_model = result['model'][0][0]"
   ]
  },
  {
   "cell_type": "code",
   "execution_count": null,
   "metadata": {},
   "outputs": [],
   "source": [
    "# Print out the inversion results.  They should be close to identical.\n",
    "print('UXOLAB RESULT\\n{}\\n'.format(uxolab_final_model))\n",
    "print('BTINVERT RESULT\\n{}\\n'.format(btinvert_final_model))"
   ]
  },
  {
   "cell_type": "code",
   "execution_count": null,
   "metadata": {},
   "outputs": [],
   "source": [
    "xyz_data.shape"
   ]
  },
  {
   "cell_type": "code",
   "execution_count": null,
   "metadata": {},
   "outputs": [],
   "source": [
    "print([xyz_ch[i] for i in xyz_datai])"
   ]
  },
  {
   "cell_type": "code",
   "execution_count": null,
   "metadata": {},
   "outputs": [],
   "source": [
    "xyz_data[np.where(xyz_ch==\"tearly\")[0], 0:30]"
   ]
  },
  {
   "cell_type": "code",
   "execution_count": null,
   "metadata": {},
   "outputs": [],
   "source": [
    "xyz_data"
   ]
  },
  {
   "cell_type": "code",
   "execution_count": null,
   "metadata": {},
   "outputs": [],
   "source": [
    "xyz_ch"
   ]
  }
 ],
 "metadata": {
  "kernelspec": {
   "display_name": "Python 3",
   "language": "python",
   "name": "python3"
  },
  "language_info": {
   "codemirror_mode": {
    "name": "ipython",
    "version": 3
   },
   "file_extension": ".py",
   "mimetype": "text/x-python",
   "name": "python",
   "nbconvert_exporter": "python",
   "pygments_lexer": "ipython3",
   "version": "3.7.3"
  }
 },
 "nbformat": 4,
 "nbformat_minor": 4
}
